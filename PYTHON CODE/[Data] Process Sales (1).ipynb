{
 "cells": [
  {
   "cell_type": "markdown",
   "id": "66084424-3cbe-46d6-8c9c-23d614b499d2",
   "metadata": {},
   "source": [
    "# Process Sales Data"
   ]
  },
  {
   "cell_type": "code",
   "execution_count": 5,
   "id": "d3a6af27-a6ce-451c-85ab-2aa51960bb11",
   "metadata": {},
   "outputs": [],
   "source": [
    "import pandas\n",
    "import numpy as N\n",
    "import tqdm\n",
    "\n",
    "from pathlib import Path"
   ]
  },
  {
   "cell_type": "code",
   "execution_count": 4,
   "id": "6d0f1df7-455b-42e4-b20c-05ac822c91ff",
   "metadata": {},
   "outputs": [
    {
     "data": {
      "text/plain": [
       "[PosixPath('data/Annualized_Rolling_Sales/2014_manhattan.xls'),\n",
       " PosixPath('data/Annualized_Rolling_Sales/2012_statenisland.xls'),\n",
       " PosixPath('data/Annualized_Rolling_Sales/2012_queens.xls'),\n",
       " PosixPath('data/Annualized_Rolling_Sales/2013_queens.xls'),\n",
       " PosixPath('data/Annualized_Rolling_Sales/2009_queens.xls'),\n",
       " PosixPath('data/Annualized_Rolling_Sales/2015_brooklyn.xls'),\n",
       " PosixPath('data/Annualized_Rolling_Sales/2010_bronx.xls'),\n",
       " PosixPath('data/Annualized_Rolling_Sales/2013_statenisland.xls'),\n",
       " PosixPath('data/Annualized_Rolling_Sales/2012_brooklyn.xls'),\n",
       " PosixPath('data/Annualized_Rolling_Sales/2011_bronx.xls'),\n",
       " PosixPath('data/Annualized_Rolling_Sales/2014_brooklyn.xls'),\n",
       " PosixPath('data/Annualized_Rolling_Sales/2015_bronx.xls'),\n",
       " PosixPath('data/Annualized_Rolling_Sales/2012_bronx.xls'),\n",
       " PosixPath('data/Annualized_Rolling_Sales/2012_manhattan.xls'),\n",
       " PosixPath('data/Annualized_Rolling_Sales/2009_manhattan.xls'),\n",
       " PosixPath('data/Annualized_Rolling_Sales/2013_manhattan.xls'),\n",
       " PosixPath('data/Annualized_Rolling_Sales/2015_queens.xls'),\n",
       " PosixPath('data/Annualized_Rolling_Sales/2009_brooklyn.xls'),\n",
       " PosixPath('data/Annualized_Rolling_Sales/2014_bronx.xls'),\n",
       " PosixPath('data/Annualized_Rolling_Sales/2015_manhattan.xls'),\n",
       " PosixPath('data/Annualized_Rolling_Sales/2010_manhattan.xls'),\n",
       " PosixPath('data/Annualized_Rolling_Sales/2009_bronx.xls'),\n",
       " PosixPath('data/Annualized_Rolling_Sales/2013_bronx.xls'),\n",
       " PosixPath('data/Annualized_Rolling_Sales/2010_statenisland.xls'),\n",
       " PosixPath('data/Annualized_Rolling_Sales/2014_queens.xls'),\n",
       " PosixPath('data/Annualized_Rolling_Sales/2013_brooklyn.xls'),\n",
       " PosixPath('data/Annualized_Rolling_Sales/2014_statenisland.xls'),\n",
       " PosixPath('data/Annualized_Rolling_Sales/2010_queens.xls'),\n",
       " PosixPath('data/Annualized_Rolling_Sales/2011_statenisland.xls'),\n",
       " PosixPath('data/Annualized_Rolling_Sales/2010_brooklyn.xls'),\n",
       " PosixPath('data/Annualized_Rolling_Sales/2015_statenisland.xls'),\n",
       " PosixPath('data/Annualized_Rolling_Sales/2011_queens.xls'),\n",
       " PosixPath('data/Annualized_Rolling_Sales/2011_brooklyn.xls'),\n",
       " PosixPath('data/Annualized_Rolling_Sales/2009_statenisland.xls'),\n",
       " PosixPath('data/Annualized_Rolling_Sales/2011_manhattan.xls')]"
      ]
     },
     "execution_count": 4,
     "metadata": {},
     "output_type": "execute_result"
    }
   ],
   "source": [
    "pathData = Path(\"data/\")\n",
    "pathSales = pathData / 'Annualized_Rolling_Sales'\n",
    "pathProcessed = Path(\"processed/\")\n",
    "\n",
    "pathsSalesXls = list(pathSales.glob(\"[0-9]*\"))\n",
    "pathsSalesXls"
   ]
  },
  {
   "cell_type": "code",
   "execution_count": 10,
   "id": "56025b2f-edcf-4fb9-a8b4-c51ec638782e",
   "metadata": {},
   "outputs": [
    {
     "name": "stderr",
     "output_type": "stream",
     "text": [
      "  0%|          | 0/35 [00:47<?, ?it/s].41it/s]\n",
      "100%|██████████| 35/35 [00:28<00:00,  1.22it/s]\n"
     ]
    }
   ],
   "source": [
    "def process_one(path):\n",
    "    try:\n",
    "        nSkiprows = 3 if int(path.stem[:4]) <= 2010 else 4\n",
    "        df = pandas.read_excel(path, skiprows=nSkiprows)\n",
    "        df.columns = [x.rstrip() for x in df.columns]\n",
    "        \n",
    "        assert df.columns[0] == \"BOROUGH\"\n",
    "    except:\n",
    "        print(f\"Error processing {path}\")\n",
    "        raise\n",
    "    return df\n",
    "\n",
    "dfs = [process_one(path) for path in tqdm.tqdm(pathsSalesXls)]\n",
    "df = pandas.concat(dfs)\n",
    "df.to_csv(pathProcessed / 'sales.csv', index=False)"
   ]
  },
  {
   "cell_type": "code",
   "execution_count": null,
   "id": "998323e6-d992-416d-9190-9af30b1a342d",
   "metadata": {},
   "outputs": [],
   "source": []
  }
 ],
 "metadata": {
  "kernelspec": {
   "display_name": "Python 3 (ipykernel)",
   "language": "python",
   "name": "python3"
  },
  "language_info": {
   "codemirror_mode": {
    "name": "ipython",
    "version": 3
   },
   "file_extension": ".py",
   "mimetype": "text/x-python",
   "name": "python",
   "nbconvert_exporter": "python",
   "pygments_lexer": "ipython3",
   "version": "3.8.10"
  }
 },
 "nbformat": 4,
 "nbformat_minor": 5
}
